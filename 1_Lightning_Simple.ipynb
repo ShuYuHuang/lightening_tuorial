{
 "cells": [
  {
   "cell_type": "code",
   "execution_count": null,
   "id": "ee7b2659",
   "metadata": {},
   "outputs": [],
   "source": [
    "# !pip install --user pytorch-lightning"
   ]
  },
  {
   "cell_type": "code",
   "execution_count": 11,
   "id": "9be44f3a",
   "metadata": {},
   "outputs": [],
   "source": [
    "%rm -rf lightning_logs\n",
    "import torch # Pytorch主套件\n",
    "from torch import nn # 神經網路層相關子套件\n",
    "from torch.nn import functional as F\n",
    "from torch.utils import data # Data讀取相關子套件 \n",
    "\n",
    "from torchvision.datasets import MNIST # MNIST資料集\n",
    "from torchvision import transforms as trans # 圖形前處理子套件\n",
    "\n",
    "import pytorch_lightning as pl # Lightning 主套件"
   ]
  },
  {
   "cell_type": "markdown",
   "id": "17acd0ec",
   "metadata": {},
   "source": [
    "## Module class"
   ]
  },
  {
   "cell_type": "code",
   "execution_count": 41,
   "id": "e0363b2a",
   "metadata": {},
   "outputs": [],
   "source": [
    "## ---最簡單的Lightning Module---\n",
    "class LitModel(pl.LightningModule):\n",
    "    # ---初始化---\n",
    "    def __init__(self):\n",
    "        super().__init__()\n",
    "        # ---至少要放一個網路(把結構放在這邊，Sequential或者layers都可以)---\n",
    "        self.net=nn.Sequential(\n",
    "            nn.Linear(28 * 28, 128),\n",
    "            nn.ReLU(),\n",
    "            nn.Linear(128, 10)\n",
    "        )\n",
    "        \n",
    "    # ---網路走法(如果有skipping, concatenate, 還有tensor操作在這邊)---    \n",
    "    def forward(self,x):\n",
    "        x=x.view(x.shape[0],-1)\n",
    "        return self.net(x)\n",
    "    \n",
    "    # ---每個training batch要做的事---    \n",
    "    def training_step(self, batch, batch_idx):\n",
    "        # ---分開data, label---\n",
    "        x, y = batch\n",
    "        # ---data進網路---\n",
    "        y_hat = self(x)\n",
    "        # ---prediction跟y算loss---\n",
    "        loss = F.cross_entropy(y_hat, y) # cross_entropy裡面包含softmax計算\n",
    "        \n",
    "        return loss\n",
    "    \n",
    "    # ---Optimizer放這邊---\n",
    "    def configure_optimizers(self):\n",
    "        return torch.optim.Adam(self.parameters(), lr=0.02)"
   ]
  },
  {
   "cell_type": "code",
   "execution_count": 42,
   "id": "2539dee9",
   "metadata": {},
   "outputs": [],
   "source": [
    "BATCH_SIZE=1024\n",
    "EPOCHS=2"
   ]
  },
  {
   "cell_type": "markdown",
   "id": "61570a81",
   "metadata": {},
   "source": [
    "## Data Loader"
   ]
  },
  {
   "cell_type": "code",
   "execution_count": null,
   "id": "71c08603",
   "metadata": {},
   "outputs": [],
   "source": [
    "# ---讀取dataset---\n",
    "MNIST_train=MNIST(\".\", download=True,train=True, transform=trans.ToTensor())\n",
    "\n",
    "# ---將dataset放進dataloader(平行執行, 分batch_size, shuffle等功能)---\n",
    "train_loader = data.DataLoader(MNIST_train,batch_size=BATCH_SIZE,shuffle=True)"
   ]
  },
  {
   "cell_type": "markdown",
   "id": "d0782eea",
   "metadata": {},
   "source": [
    "## Trainer"
   ]
  },
  {
   "cell_type": "code",
   "execution_count": 14,
   "id": "15ccc7c9",
   "metadata": {},
   "outputs": [
    {
     "name": "stderr",
     "output_type": "stream",
     "text": [
      "GPU available: True, used: False\n",
      "TPU available: False, using: 0 TPU cores\n",
      "IPU available: False, using: 0 IPUs\n",
      "/opt/conda/lib/python3.7/site-packages/pytorch_lightning/trainer/trainer.py:1295: UserWarning: GPU available but not used. Set the gpus flag in your trainer `Trainer(gpus=1)` or script `--gpus=1`.\n",
      "  \"GPU available but not used. Set the gpus flag in your trainer\"\n"
     ]
    }
   ],
   "source": [
    "# ---建立Trainer(負責model fitting, 紀錄訓練內容)---\n",
    "trainer = pl.Trainer(max_epochs=EPOCHS)\n",
    "# ---建立Model class---\n",
    "model = LitModel()"
   ]
  },
  {
   "cell_type": "markdown",
   "id": "234c7965",
   "metadata": {},
   "source": [
    "## Training"
   ]
  },
  {
   "cell_type": "code",
   "execution_count": 15,
   "id": "f1443a8e",
   "metadata": {},
   "outputs": [
    {
     "name": "stderr",
     "output_type": "stream",
     "text": [
      "\n",
      "  | Name | Type       | Params\n",
      "------------------------------------\n",
      "0 | net  | Sequential | 101 K \n",
      "------------------------------------\n",
      "101 K     Trainable params\n",
      "0         Non-trainable params\n",
      "101 K     Total params\n",
      "0.407     Total estimated model params size (MB)\n"
     ]
    },
    {
     "data": {
      "application/vnd.jupyter.widget-view+json": {
       "model_id": "1fb4855a666347278dfaaaac12f87754",
       "version_major": 2,
       "version_minor": 0
      },
      "text/plain": [
       "Training: -1it [00:00, ?it/s]"
      ]
     },
     "metadata": {},
     "output_type": "display_data"
    }
   ],
   "source": [
    "'''訓練開始'''\n",
    "trainer.fit(model,train_loader)"
   ]
  },
  {
   "cell_type": "markdown",
   "id": "1e892a49",
   "metadata": {},
   "source": [
    "## Logging"
   ]
  },
  {
   "cell_type": "code",
   "execution_count": 43,
   "id": "0e85a46d",
   "metadata": {},
   "outputs": [],
   "source": [
    "from pytorch_lightning.metrics.functional import accuracy\n",
    "\n",
    "class ModelWithLog(LitModel):\n",
    "    def __init__(self):\n",
    "        super().__init__()\n",
    "    def training_step(self, batch, batch_idx):\n",
    "        ### --------------之前就有的-------------\n",
    "        # ---分開data, label---\n",
    "        x, y = batch\n",
    "        # ---data進網路---\n",
    "        y_hat = self(x)\n",
    "        # ---prediction跟y算loss---\n",
    "        loss = F.cross_entropy(y_hat, y) # cross_entropy裡面包含softmax計算\n",
    "        \n",
    "        \n",
    "        ### --------------紀錄用區段-------------\n",
    "        # ---算acc---\n",
    "        acc=accuracy(y_hat, y)\n",
    "        # ---記錄起來---\n",
    "        self.log(\"train_loss\",loss,prog_bar=True,logger=True)\n",
    "        self.log(\"train_acc\",acc,prog_bar=True,logger=True)\n",
    "        return loss"
   ]
  },
  {
   "cell_type": "code",
   "execution_count": 19,
   "id": "37df6395",
   "metadata": {},
   "outputs": [
    {
     "name": "stderr",
     "output_type": "stream",
     "text": [
      "\n",
      "  | Name | Type       | Params\n",
      "------------------------------------\n",
      "0 | net  | Sequential | 101 K \n",
      "------------------------------------\n",
      "101 K     Trainable params\n",
      "0         Non-trainable params\n",
      "101 K     Total params\n",
      "0.407     Total estimated model params size (MB)\n",
      "/opt/conda/lib/python3.7/site-packages/pytorch_lightning/trainer/data_loading.py:106: UserWarning: The dataloader, train dataloader, does not have many workers which may be a bottleneck. Consider increasing the value of the `num_workers` argument` (try 32 which is the number of cpus on this machine) in the `DataLoader` init to improve performance.\n",
      "  f\"The dataloader, {name}, does not have many workers which may be a bottleneck.\"\n"
     ]
    },
    {
     "data": {
      "application/vnd.jupyter.widget-view+json": {
       "model_id": "137a6ab2d6e145e0bbf5174d7c114214",
       "version_major": 2,
       "version_minor": 0
      },
      "text/plain": [
       "Training: 58it [00:00, ?it/s]"
      ]
     },
     "metadata": {},
     "output_type": "display_data"
    }
   ],
   "source": [
    "model = ModelWithLog()\n",
    "trainer.fit(model,train_loader)"
   ]
  },
  {
   "cell_type": "markdown",
   "id": "147ffd17",
   "metadata": {},
   "source": [
    "## Testing"
   ]
  },
  {
   "cell_type": "code",
   "execution_count": 44,
   "id": "ce194858",
   "metadata": {},
   "outputs": [],
   "source": [
    "class ModelWithTest(ModelWithLog):\n",
    "    def __init__(self):\n",
    "        super().__init__()\n",
    "    ## ---跟trainin step基本一樣---\n",
    "    def test_step(self, batch, batch_idx):\n",
    "        ### --------------之前就有的-------------\n",
    "        # ---分開data, label---\n",
    "        x, y = batch\n",
    "        # ---data進網路---\n",
    "        y_hat = self(x)\n",
    "        # ---prediction跟y算loss---\n",
    "        loss = F.cross_entropy(y_hat, y) # cross_entropy裡面包含softmax計算\n",
    "        \n",
    "        acc=accuracy(y_hat, y)\n",
    "        # ---記錄起來---\n",
    "        self.log(\"test_loss\",loss,prog_bar=True,logger=True)\n",
    "        self.log(\"test_acc\",acc,prog_bar=True,logger=True)"
   ]
  },
  {
   "cell_type": "code",
   "execution_count": 45,
   "id": "3a161baf",
   "metadata": {},
   "outputs": [
    {
     "name": "stderr",
     "output_type": "stream",
     "text": [
      "\n",
      "  | Name | Type       | Params\n",
      "------------------------------------\n",
      "0 | net  | Sequential | 101 K \n",
      "------------------------------------\n",
      "101 K     Trainable params\n",
      "0         Non-trainable params\n",
      "101 K     Total params\n",
      "0.407     Total estimated model params size (MB)\n",
      "/opt/conda/lib/python3.7/site-packages/pytorch_lightning/trainer/data_loading.py:106: UserWarning: The dataloader, train dataloader, does not have many workers which may be a bottleneck. Consider increasing the value of the `num_workers` argument` (try 32 which is the number of cpus on this machine) in the `DataLoader` init to improve performance.\n",
      "  f\"The dataloader, {name}, does not have many workers which may be a bottleneck.\"\n"
     ]
    },
    {
     "data": {
      "application/vnd.jupyter.widget-view+json": {
       "model_id": "224cd422b9cd427b9e518c33c06dc449",
       "version_major": 2,
       "version_minor": 0
      },
      "text/plain": [
       "Training: 58it [00:00, ?it/s]"
      ]
     },
     "metadata": {},
     "output_type": "display_data"
    }
   ],
   "source": [
    "'''先train'''\n",
    "model = ModelWithTest()\n",
    "trainer.fit(model,train_loader)"
   ]
  },
  {
   "cell_type": "markdown",
   "id": "08249765",
   "metadata": {},
   "source": [
    "## Testing"
   ]
  },
  {
   "cell_type": "code",
   "execution_count": 33,
   "id": "710f5e66",
   "metadata": {},
   "outputs": [],
   "source": [
    "# ---讀取dataset---\n",
    "MNIST_test=MNIST(\".\", download=True,train=False, transform=trans.ToTensor()) # testing dataset\n",
    "\n",
    "# ---將dataset放進dataloader(平行執行, 分batch_size, shuffle等功能)---\n",
    "test_loader = data.DataLoader(MNIST_test,batch_size=BATCH_SIZE*2,shuffle=True) # testing loader"
   ]
  },
  {
   "cell_type": "code",
   "execution_count": 46,
   "id": "32c2f8f7",
   "metadata": {},
   "outputs": [
    {
     "name": "stderr",
     "output_type": "stream",
     "text": [
      "/opt/conda/lib/python3.7/site-packages/pytorch_lightning/trainer/data_loading.py:377: UserWarning: Your test_dataloader has `shuffle=True`, it is best practice to turn this off for val/test/predict dataloaders.\n",
      "  f\"Your {mode}_dataloader has `shuffle=True`, it is best practice to turn\"\n",
      "/opt/conda/lib/python3.7/site-packages/pytorch_lightning/trainer/data_loading.py:106: UserWarning: The dataloader, test dataloader 0, does not have many workers which may be a bottleneck. Consider increasing the value of the `num_workers` argument` (try 32 which is the number of cpus on this machine) in the `DataLoader` init to improve performance.\n",
      "  f\"The dataloader, {name}, does not have many workers which may be a bottleneck.\"\n"
     ]
    },
    {
     "data": {
      "application/vnd.jupyter.widget-view+json": {
       "model_id": "dc4b84a1fbad483bbbb8ab64c2d9e63e",
       "version_major": 2,
       "version_minor": 0
      },
      "text/plain": [
       "Testing: 0it [00:00, ?it/s]"
      ]
     },
     "metadata": {},
     "output_type": "display_data"
    },
    {
     "name": "stdout",
     "output_type": "stream",
     "text": [
      "--------------------------------------------------------------------------------\n",
      "DATALOADER:0 TEST RESULTS\n",
      "{'test_acc': 0.9535999894142151, 'test_loss': 0.14951574802398682}\n",
      "--------------------------------------------------------------------------------\n"
     ]
    },
    {
     "data": {
      "text/plain": [
       "[{'test_loss': 0.14951574802398682, 'test_acc': 0.9535999894142151}]"
      ]
     },
     "execution_count": 46,
     "metadata": {},
     "output_type": "execute_result"
    }
   ],
   "source": [
    "trainer.test(model,test_loader)"
   ]
  },
  {
   "cell_type": "markdown",
   "id": "cbc6b76d",
   "metadata": {},
   "source": [
    "## Saving"
   ]
  },
  {
   "cell_type": "code",
   "execution_count": 35,
   "id": "7a9985f1",
   "metadata": {},
   "outputs": [],
   "source": [
    "trainer.save_checkpoint(\"checkpoints\")"
   ]
  },
  {
   "cell_type": "markdown",
   "id": "c0c74e8a",
   "metadata": {},
   "source": [
    "## 提高整合性"
   ]
  },
  {
   "cell_type": "code",
   "execution_count": 73,
   "id": "35b7365e",
   "metadata": {},
   "outputs": [],
   "source": [
    "## ---最簡單的Lightning Module---\n",
    "class Model(pl.LightningModule):\n",
    "    # ---初始化---\n",
    "    def __init__(self):\n",
    "        super().__init__()\n",
    "        # ---至少要放一個網路(把結構放在這邊，Sequential或者layers都可以)---\n",
    "        self.net=nn.Sequential(\n",
    "            nn.Linear(28 * 28, 128),\n",
    "            nn.ReLU(),\n",
    "            nn.Linear(128, 10)\n",
    "        )\n",
    "        \n",
    "    # ---網路走法(如果有skipping, concatenate, 還有tensor操作在這邊)---    \n",
    "    def forward(self,x):\n",
    "        x=x.view(x.shape[0],-1)\n",
    "        return self.net(x)\n",
    "    \n",
    "    # ---每個training batch要做的事---    \n",
    "    def training_step(self, batch, batch_idx,flag=\"train\"):\n",
    "        # ---分開data, label---\n",
    "        x, y = batch\n",
    "        \n",
    "        # ---data進網路---\n",
    "        y_hat = self(x)\n",
    "        \n",
    "        # ---prediction跟y算loss,acc---\n",
    "        loss = F.cross_entropy(y_hat, y) # cross_entropy裡面包含softmax計算\n",
    "        acc=accuracy(y_hat, y)\n",
    "        \n",
    "        # ---記錄起來---\n",
    "        self.log_dict({flag+\"_loss\":loss,flag+\"_acc\":acc},prog_bar=True,logger=True)\n",
    "        return loss\n",
    "    \n",
    "    # ---Optimizer放這邊---\n",
    "    def configure_optimizers(self):\n",
    "        return torch.optim.Adam(self.parameters(), lr=0.02)\n",
    "    \n",
    "    # ---重複利用step function---\n",
    "    def test_step(self, batch, batch_idx):\n",
    "        self.training_step(batch, batch_idx,flag=\"test\")\n",
    "    def validation_step(self, batch, batch_idx):\n",
    "        self.training_step(batch, batch_idx,flag=\"val\")\n",
    "    "
   ]
  },
  {
   "cell_type": "code",
   "execution_count": 75,
   "id": "a0772698",
   "metadata": {},
   "outputs": [
    {
     "name": "stderr",
     "output_type": "stream",
     "text": [
      "\n",
      "  | Name | Type       | Params\n",
      "------------------------------------\n",
      "0 | net  | Sequential | 101 K \n",
      "------------------------------------\n",
      "101 K     Trainable params\n",
      "0         Non-trainable params\n",
      "101 K     Total params\n",
      "0.407     Total estimated model params size (MB)\n"
     ]
    },
    {
     "data": {
      "application/vnd.jupyter.widget-view+json": {
       "model_id": "",
       "version_major": 2,
       "version_minor": 0
      },
      "text/plain": [
       "Validation sanity check: 0it [00:00, ?it/s]"
      ]
     },
     "metadata": {},
     "output_type": "display_data"
    },
    {
     "data": {
      "application/vnd.jupyter.widget-view+json": {
       "model_id": "4215242d47c84712ac1bc3b8f10f03b8",
       "version_major": 2,
       "version_minor": 0
      },
      "text/plain": [
       "Training: 58it [00:00, ?it/s]"
      ]
     },
     "metadata": {},
     "output_type": "display_data"
    }
   ],
   "source": [
    "model = Model()\n",
    "trainer.fit(model,train_loader)"
   ]
  },
  {
   "cell_type": "code",
   "execution_count": 76,
   "id": "7c4f394d",
   "metadata": {},
   "outputs": [
    {
     "data": {
      "application/vnd.jupyter.widget-view+json": {
       "model_id": "fa53947d89524d7d9ba79de9d393722a",
       "version_major": 2,
       "version_minor": 0
      },
      "text/plain": [
       "Testing: 0it [00:00, ?it/s]"
      ]
     },
     "metadata": {},
     "output_type": "display_data"
    },
    {
     "name": "stdout",
     "output_type": "stream",
     "text": [
      "--------------------------------------------------------------------------------\n",
      "DATALOADER:0 TEST RESULTS\n",
      "{'test_acc': 0.953499972820282, 'test_loss': 0.1558782011270523}\n",
      "--------------------------------------------------------------------------------\n"
     ]
    },
    {
     "data": {
      "text/plain": [
       "[{'test_loss': 0.1558782011270523, 'test_acc': 0.953499972820282}]"
      ]
     },
     "execution_count": 76,
     "metadata": {},
     "output_type": "execute_result"
    }
   ],
   "source": [
    "trainer.test(model,test_loader)"
   ]
  },
  {
   "cell_type": "markdown",
   "id": "c2fb7f7c",
   "metadata": {},
   "source": [
    "## Inference"
   ]
  },
  {
   "cell_type": "code",
   "execution_count": 77,
   "id": "97ba3b26",
   "metadata": {},
   "outputs": [
    {
     "data": {
      "image/png": "[encoded data removed]",
      "text/plain": [
       "<Figure size 432x288 with 10 Axes>"
      ]
     },
     "metadata": {
      "needs_background": "light"
     },
     "output_type": "display_data"
    }
   ],
   "source": [
    "import matplotlib.pyplot as plt\n",
    "\n",
    "## ---Evaluation mode---\n",
    "model.eval()\n",
    "\n",
    "for ii in range(10):\n",
    "    x=MNIST_test[ii][0]\n",
    "    y=MNIST_test[ii][1]\n",
    "    \n",
    "    # ---關掉gradient 計算---\n",
    "    with torch.no_grad():\n",
    "        # ---計算output---\n",
    "        pred = model(x)\n",
    "        plt.subplot(1,10,ii+1)\n",
    "        plt.imshow(x.squeeze(),\"gray\")\n",
    "        plt.title(pred.argmax(-1).item())\n",
    "        plt.axis(\"off\")"
   ]
  }
 ],
 "metadata": {
  "kernelspec": {
   "display_name": "Python 3 (ipykernel)",
   "language": "python",
   "name": "python3"
  },
  "language_info": {
   "codemirror_mode": {
    "name": "ipython",
    "version": 3
   },
   "file_extension": ".py",
   "mimetype": "text/x-python",
   "name": "python",
   "nbconvert_exporter": "python",
   "pygments_lexer": "ipython3",
   "version": "3.7.10"
  }
 },
 "nbformat": 4,
 "nbformat_minor": 5
}
